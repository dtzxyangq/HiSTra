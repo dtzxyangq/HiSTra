{
 "cells": [
  {
   "cell_type": "markdown",
   "id": "9c13e84f-1f2b-4c22-a4fd-3c706b3f06a9",
   "metadata": {},
   "source": [
    "# Prework"
   ]
  },
  {
   "cell_type": "markdown",
   "id": "de0eb4ab-95a7-46c4-a825-c2ebef49a1f5",
   "metadata": {},
   "source": [
    "## 0.1 sizes相关的函数测试"
   ]
  },
  {
   "cell_type": "code",
   "execution_count": 17,
   "id": "a65675a2-ab0c-4705-98d5-19b2281e7b65",
   "metadata": {},
   "outputs": [
    {
     "data": {
      "text/html": [
       "<div>\n",
       "<style scoped>\n",
       "    .dataframe tbody tr th:only-of-type {\n",
       "        vertical-align: middle;\n",
       "    }\n",
       "\n",
       "    .dataframe tbody tr th {\n",
       "        vertical-align: top;\n",
       "    }\n",
       "\n",
       "    .dataframe thead th {\n",
       "        text-align: right;\n",
       "    }\n",
       "</style>\n",
       "<table border=\"1\" class=\"dataframe\">\n",
       "  <thead>\n",
       "    <tr style=\"text-align: right;\">\n",
       "      <th></th>\n",
       "      <th>0</th>\n",
       "      <th>1</th>\n",
       "    </tr>\n",
       "  </thead>\n",
       "  <tbody>\n",
       "    <tr>\n",
       "      <th>0</th>\n",
       "      <td>chr1</td>\n",
       "      <td>249250621</td>\n",
       "    </tr>\n",
       "    <tr>\n",
       "      <th>1</th>\n",
       "      <td>chr2</td>\n",
       "      <td>243199373</td>\n",
       "    </tr>\n",
       "    <tr>\n",
       "      <th>2</th>\n",
       "      <td>chr3</td>\n",
       "      <td>198022430</td>\n",
       "    </tr>\n",
       "    <tr>\n",
       "      <th>3</th>\n",
       "      <td>chr4</td>\n",
       "      <td>191154276</td>\n",
       "    </tr>\n",
       "    <tr>\n",
       "      <th>4</th>\n",
       "      <td>chr5</td>\n",
       "      <td>180915260</td>\n",
       "    </tr>\n",
       "    <tr>\n",
       "      <th>5</th>\n",
       "      <td>chr6</td>\n",
       "      <td>171115067</td>\n",
       "    </tr>\n",
       "    <tr>\n",
       "      <th>6</th>\n",
       "      <td>chr7</td>\n",
       "      <td>159138663</td>\n",
       "    </tr>\n",
       "    <tr>\n",
       "      <th>7</th>\n",
       "      <td>chr8</td>\n",
       "      <td>146364022</td>\n",
       "    </tr>\n",
       "    <tr>\n",
       "      <th>8</th>\n",
       "      <td>chr9</td>\n",
       "      <td>141213431</td>\n",
       "    </tr>\n",
       "    <tr>\n",
       "      <th>9</th>\n",
       "      <td>chr10</td>\n",
       "      <td>135534747</td>\n",
       "    </tr>\n",
       "    <tr>\n",
       "      <th>10</th>\n",
       "      <td>chr11</td>\n",
       "      <td>135006516</td>\n",
       "    </tr>\n",
       "    <tr>\n",
       "      <th>11</th>\n",
       "      <td>chr12</td>\n",
       "      <td>133851895</td>\n",
       "    </tr>\n",
       "    <tr>\n",
       "      <th>12</th>\n",
       "      <td>chr13</td>\n",
       "      <td>115169878</td>\n",
       "    </tr>\n",
       "    <tr>\n",
       "      <th>13</th>\n",
       "      <td>chr14</td>\n",
       "      <td>107349540</td>\n",
       "    </tr>\n",
       "    <tr>\n",
       "      <th>14</th>\n",
       "      <td>chr15</td>\n",
       "      <td>102531392</td>\n",
       "    </tr>\n",
       "    <tr>\n",
       "      <th>15</th>\n",
       "      <td>chr16</td>\n",
       "      <td>90354753</td>\n",
       "    </tr>\n",
       "    <tr>\n",
       "      <th>16</th>\n",
       "      <td>chr17</td>\n",
       "      <td>81195210</td>\n",
       "    </tr>\n",
       "    <tr>\n",
       "      <th>17</th>\n",
       "      <td>chr18</td>\n",
       "      <td>78077248</td>\n",
       "    </tr>\n",
       "    <tr>\n",
       "      <th>18</th>\n",
       "      <td>chr19</td>\n",
       "      <td>59128983</td>\n",
       "    </tr>\n",
       "    <tr>\n",
       "      <th>19</th>\n",
       "      <td>chr20</td>\n",
       "      <td>63025520</td>\n",
       "    </tr>\n",
       "    <tr>\n",
       "      <th>20</th>\n",
       "      <td>chr21</td>\n",
       "      <td>48129895</td>\n",
       "    </tr>\n",
       "    <tr>\n",
       "      <th>21</th>\n",
       "      <td>chr22</td>\n",
       "      <td>51304566</td>\n",
       "    </tr>\n",
       "    <tr>\n",
       "      <th>22</th>\n",
       "      <td>chrX</td>\n",
       "      <td>155270560</td>\n",
       "    </tr>\n",
       "  </tbody>\n",
       "</table>\n",
       "</div>"
      ],
      "text/plain": [
       "        0          1\n",
       "0    chr1  249250621\n",
       "1    chr2  243199373\n",
       "2    chr3  198022430\n",
       "3    chr4  191154276\n",
       "4    chr5  180915260\n",
       "5    chr6  171115067\n",
       "6    chr7  159138663\n",
       "7    chr8  146364022\n",
       "8    chr9  141213431\n",
       "9   chr10  135534747\n",
       "10  chr11  135006516\n",
       "11  chr12  133851895\n",
       "12  chr13  115169878\n",
       "13  chr14  107349540\n",
       "14  chr15  102531392\n",
       "15  chr16   90354753\n",
       "16  chr17   81195210\n",
       "17  chr18   78077248\n",
       "18  chr19   59128983\n",
       "19  chr20   63025520\n",
       "20  chr21   48129895\n",
       "21  chr22   51304566\n",
       "22   chrX  155270560"
      ]
     },
     "execution_count": 17,
     "metadata": {},
     "output_type": "execute_result"
    }
   ],
   "source": [
    "# sizes_path = \"/media/sdd_14T/translocation/HiC_default/chrom_yZSJ025.sizes\"\n",
    "sizes_path = \"/media/sdd_14T/translocation/HiC_default/chrom_hg19.sizes\"\n",
    "sizes = pd.read_csv(sizes_path,sep='\\t',header=None)\n",
    "sizes"
   ]
  },
  {
   "cell_type": "code",
   "execution_count": 19,
   "id": "9b7e3485-cbc7-4805-9965-4ec658a765e9",
   "metadata": {},
   "outputs": [
    {
     "data": {
      "text/plain": [
       "(249250621, 100000, '500k', True)"
      ]
     },
     "execution_count": 19,
     "metadata": {},
     "output_type": "execute_result"
    }
   ],
   "source": [
    "def sizes2chrname(sizes):\n",
    "    chrname = [sizes[0][i] for i in range(len(sizes))]\n",
    "    return chrname\n",
    "def sizes2MaxChrLen(sizes):\n",
    "    return np.max(sizes[1])\n",
    "def sizes2resUnit(sizes):\n",
    "    return int(pow(10,len(str(int(np.max(sizes[1])/10000)))))\n",
    "def num2res_sim(num):\n",
    "    if (num/1000000>=1):\n",
    "        return str(int(num/1000000))+'M'\n",
    "    else:\n",
    "        if (num/1000>=1):\n",
    "            return str(int(num/1000))+'k'\n",
    "def chrname_pre(chrname_i):\n",
    "    if chrname_i.startswith('chr'):\n",
    "        return ''\n",
    "    else:\n",
    "        return 'chr'\n",
    "chrname = sizes2chrname(sizes)\n",
    "chrname\n",
    "sizes2MaxChrLen(sizes),sizes2resUnit(sizes),num2res_sim(sizes2resUnit(sizes)*5),sizes[0][1].startswith('chr')"
   ]
  },
  {
   "cell_type": "markdown",
   "id": "fc82187b-55df-40e5-a08d-314553574b7b",
   "metadata": {},
   "source": [
    "# Input Test"
   ]
  },
  {
   "cell_type": "markdown",
   "id": "b36ece09-218e-4cec-8032-cc1c0478939d",
   "metadata": {},
   "source": [
    "## 1.1 hic2mat"
   ]
  },
  {
   "cell_type": "code",
   "execution_count": 4,
   "id": "8e478927-4d95-4e48-8cae-a353b2478484",
   "metadata": {
    "tags": []
   },
   "outputs": [
    {
     "name": "stdout",
     "output_type": "stream",
     "text": [
      "--------- The hic file path is /home/yangqian/storage/Bio/projects/yeast_hic_data/13-merge_hic/H6/H6.allValidPairs.hic. ---------\n",
      "--------- We are dumpping H6 sample chromosome pairs ('chr1', 'chr1').\n",
      "--------- Process is completed 0.0%... ---------\n",
      "--------- We are dumpping H6 sample chromosome pairs ('chr2', 'chr2').\n",
      "--------- Process is completed 11.764705882352942%... ---------\n",
      "--------- We are dumpping H6 sample chromosome pairs ('chr3', 'chr3').\n",
      "--------- Process is completed 22.794117647058822%... ---------\n",
      "--------- We are dumpping H6 sample chromosome pairs ('chr4', 'chr4').\n",
      "--------- Process is completed 33.088235294117645%... ---------\n",
      "--------- We are dumpping H6 sample chromosome pairs ('chr5', 'chr5').\n",
      "--------- Process is completed 42.64705882352941%... ---------\n",
      "--------- We are dumpping H6 sample chromosome pairs ('chr6', 'chr6').\n",
      "--------- Process is completed 51.470588235294116%... ---------\n",
      "--------- We are dumpping H6 sample chromosome pairs ('chr7', 'chr7').\n",
      "--------- Process is completed 59.55882352941177%... ---------\n",
      "--------- We are dumpping H6 sample chromosome pairs ('chr8', 'chr8').\n",
      "--------- Process is completed 66.91176470588235%... ---------\n",
      "--------- We are dumpping H6 sample chromosome pairs ('chr9', 'chr9').\n",
      "--------- Process is completed 73.52941176470588%... ---------\n",
      "--------- We are dumpping H6 sample chromosome pairs ('chr10', 'chr10').\n",
      "--------- Process is completed 79.41176470588235%... ---------\n",
      "--------- We are dumpping H6 sample chromosome pairs ('chr11', 'chr11').\n",
      "--------- Process is completed 84.55882352941177%... ---------\n",
      "--------- We are dumpping H6 sample chromosome pairs ('chr12', 'chr12').\n",
      "--------- Process is completed 88.97058823529412%... ---------\n",
      "--------- We are dumpping H6 sample chromosome pairs ('chr13', 'chr13').\n",
      "--------- Process is completed 92.6470588235294%... ---------\n",
      "--------- We are dumpping H6 sample chromosome pairs ('chr14', 'chr14').\n",
      "--------- Process is completed 95.58823529411765%... ---------\n",
      "--------- We are dumpping H6 sample chromosome pairs ('chr15', 'chr15').\n",
      "--------- Process is completed 97.79411764705883%... ---------\n",
      "--------- We are dumpping H6 sample chromosome pairs ('chr16', 'chr16').\n",
      "--------- Process is completed 99.26470588235294%... ---------\n",
      "--------- We are dumpping H6 sample chromosome pairs ('chrMT', 'chrMT').\n",
      "--------- Process is completed 100.0%... ---------\n",
      "You can check juicer_1k_log.txt and juicer_5k_log.txt in current directory if any error occurs.\n",
      "/home/yangqian/storage/Bio/projects/yeast_hic_data/SV_out/Matrix_from_hic/H6\n",
      "--------- The hic file path is /home/yangqian/storage/Bio/projects/yeast_hic_data/13-merge_hic/025/025.allValidPairs.hic. ---------\n",
      "--------- We are dumpping 025 sample chromosome pairs ('chr1', 'chr1').\n",
      "--------- Process is completed 0.0%... ---------\n",
      "--------- We are dumpping 025 sample chromosome pairs ('chr2', 'chr2').\n",
      "--------- Process is completed 11.764705882352942%... ---------\n",
      "--------- We are dumpping 025 sample chromosome pairs ('chr3', 'chr3').\n",
      "--------- Process is completed 22.794117647058822%... ---------\n",
      "--------- We are dumpping 025 sample chromosome pairs ('chr4', 'chr4').\n",
      "--------- Process is completed 33.088235294117645%... ---------\n",
      "--------- We are dumpping 025 sample chromosome pairs ('chr5', 'chr5').\n",
      "--------- Process is completed 42.64705882352941%... ---------\n",
      "--------- We are dumpping 025 sample chromosome pairs ('chr6', 'chr6').\n",
      "--------- Process is completed 51.470588235294116%... ---------\n",
      "--------- We are dumpping 025 sample chromosome pairs ('chr7', 'chr7').\n",
      "--------- Process is completed 59.55882352941177%... ---------\n",
      "--------- We are dumpping 025 sample chromosome pairs ('chr8', 'chr8').\n",
      "--------- Process is completed 66.91176470588235%... ---------\n",
      "--------- We are dumpping 025 sample chromosome pairs ('chr9', 'chr9').\n",
      "--------- Process is completed 73.52941176470588%... ---------\n",
      "--------- We are dumpping 025 sample chromosome pairs ('chr10', 'chr10').\n",
      "--------- Process is completed 79.41176470588235%... ---------\n",
      "--------- We are dumpping 025 sample chromosome pairs ('chr11', 'chr11').\n",
      "--------- Process is completed 84.55882352941177%... ---------\n",
      "--------- We are dumpping 025 sample chromosome pairs ('chr12', 'chr12').\n",
      "--------- Process is completed 88.97058823529412%... ---------\n",
      "--------- We are dumpping 025 sample chromosome pairs ('chr13', 'chr13').\n",
      "--------- Process is completed 92.6470588235294%... ---------\n",
      "--------- We are dumpping 025 sample chromosome pairs ('chr14', 'chr14').\n",
      "--------- Process is completed 95.58823529411765%... ---------\n",
      "--------- We are dumpping 025 sample chromosome pairs ('chr15', 'chr15').\n",
      "--------- Process is completed 97.79411764705883%... ---------\n",
      "--------- We are dumpping 025 sample chromosome pairs ('chr16', 'chr16').\n",
      "--------- Process is completed 99.26470588235294%... ---------\n",
      "--------- We are dumpping 025 sample chromosome pairs ('chrMT', 'chrMT').\n",
      "--------- Process is completed 100.0%... ---------\n",
      "You can check juicer_1k_log.txt and juicer_5k_log.txt in current directory if any error occurs.\n",
      "/home/yangqian/storage/Bio/projects/yeast_hic_data/SV_out/Matrix_from_hic/025\n"
     ]
    }
   ],
   "source": [
    "from HiSTra.hicInput import hic2mat\n",
    "######## path of Dell t7910 ###########\n",
    "# input_test_path = \"/media/sdd_14T/hic/Rao_K562_hg19_hicfile.allValidPairs.hic\"\n",
    "# input_control_path = \"/media/sdd_14T/hic/Rao_IMR90_hg19_hicfile.allValidPairs.hic\"\n",
    "# output_path = \"/media/sdd_14T/translocation/work_dir\"\n",
    "# sizes_path = \"/media/sdd_14T/translocation/HiC_default/chrom_hg19.sizes\"\n",
    "# juice_path = \"/media/sdd_14T/translocation/Code/HiSTra/juice/juicer_tools_2.09.00.jar\"\n",
    "######## path of ThinkStation #########\n",
    "input_test_path = \"/home/yangqian/storage/Bio/projects/yeast_hic_data/13-merge_hic/H6/H6.allValidPairs.hic\"\n",
    "input_control_path = \"/home/yangqian/storage/Bio/projects/yeast_hic_data/13-merge_hic/025/025.allValidPairs.hic\"\n",
    "output_path = \"/home/yangqian/storage/Bio/projects/yeast_hic_data/SV_out/\"\n",
    "sizes_path = \"/home/yangqian/storage/Bio/projects/yeast_hic_data/chrom_yZSJ025.sizes\"\n",
    "juice_path = \"/home/yangqian/storage/Bio/projects/HiSTra/juice/juicer_tools_2.09.00.jar\"\n",
    "sizes = pd.read_csv(sizes_path,sep='\\t',header=None)\n",
    "print(hic2mat(input_test_path,output_path,juice_path,sizes))\n",
    "print(hic2mat(input_control_path,output_path,juice_path,sizes))"
   ]
  },
  {
   "cell_type": "markdown",
   "id": "db3bd62c-c3f2-4fce-8468-cac978bf292d",
   "metadata": {},
   "source": [
    "## 1.2 cool2mat"
   ]
  },
  {
   "cell_type": "code",
   "execution_count": null,
   "id": "c0d37458-e747-44b6-88dc-c125753851dd",
   "metadata": {},
   "outputs": [],
   "source": [
    "!conda --version\n",
    "!/media/sdd_14T/translocation/Code/HiSTra/HiST -t /media/sdd_14T/mcool/Rao_K562_hg19.mcool -c /media/sdd_14T/mcool/Rao_IMR90_hg19.mcool -s /media/sdd_14T/translocation/HiC_default/chrom_hg19.sizes -o /media/sdd_14T/translocation/work_dir"
   ]
  },
  {
   "cell_type": "markdown",
   "id": "6a74d5ae-d086-4e72-a80d-e91629d93fbd",
   "metadata": {},
   "source": [
    "# Sparse matrix deal test"
   ]
  },
  {
   "cell_type": "markdown",
   "id": "fe48d569-07f0-47bb-84df-2278805e5baf",
   "metadata": {},
   "source": [
    "## 2.1 Sparse matrix deal step"
   ]
  },
  {
   "cell_type": "code",
   "execution_count": null,
   "id": "d3c72080-70ae-48ab-a397-fdd0dacbe8a8",
   "metadata": {
    "tags": []
   },
   "outputs": [],
   "source": [
    "import pandas as pd\n",
    "import numpy as np\n",
    "from HiSTra.SparseMatrixDeal import *\n",
    "from HiSTra.utils import *\n",
    "from datetime import *\n",
    "test_path = \"/home/yangqian/storage/Bio/projects/yeast_hic_data/SV_out/Matrix_from_hic/H6\"\n",
    "control_path = \"/home/yangqian/storage/Bio/projects/yeast_hic_data/SV_out/Matrix_from_hic/025\"\n",
    "sizes_path = \"/home/yangqian/storage/Bio/projects/yeast_hic_data/chrom_yZSJ025.sizes\"\n",
    "sizes = pd.read_csv(sizes_path,sep='\\t',header=None)\n",
    "start = datetime.now()\n",
    "ratio500k,testDir_mat_aligned,controlDir_mat_aligned = downsample(test_path,control_path,0,sizes)\n",
    "ratio100k,testDir_mat_aligned,controlDir_mat_aligned = downsample(test_path,control_path,1,sizes)\n",
    "end = datetime.now()\n",
    "print(\"--- Debug Test: Depth difference is big: \\n\",ratio500k,ratio100k)\n",
    "print(f\"--- --- Consuming time is: {end-start} --- ---\")"
   ]
  },
  {
   "cell_type": "markdown",
   "id": "6394dabb-192f-4c27-a0b3-9cd5d6012b76",
   "metadata": {},
   "source": [
    "# Signal Finder"
   ]
  },
  {
   "cell_type": "markdown",
   "id": "a6eb959e-2850-4db1-9492-d8ef380a0353",
   "metadata": {},
   "source": [
    "## 3.1 Signal Finder step"
   ]
  },
  {
   "cell_type": "code",
   "execution_count": 2,
   "id": "2e506155-83dc-43fb-bbee-97b16f90451d",
   "metadata": {
    "tags": []
   },
   "outputs": [
    {
     "name": "stdout",
     "output_type": "stream",
     "text": [
      "------ Corresponding Eigen folder of H6_downsample_for_025 exists. ---\n",
      "------ We have finished 136 pairs of interchromosomes in resolution 5k. ------\n",
      "------ Corresponding Eigen folder of 025 exists. ---\n",
      "------ We have finished 136 pairs of interchromosomes in resolution 5k. ------\n",
      "------ Corresponding SV_result folder exists. ------\n",
      "/home/yangqian/storage/Bio/projects/yeast_hic_data/SV_out/SV_result/H6_downsample_for_025\n"
     ]
    }
   ],
   "source": [
    "import pandas as pd\n",
    "import numpy as np\n",
    "from HiSTra.SignalFinder import *\n",
    "\n",
    "test_matrix_path = \"/home/yangqian/storage/Bio/projects/yeast_hic_data/SV_out/Matrix_aligned/H6_downsample_for_025\"\n",
    "control_matrix_path = \"/home/yangqian/storage/Bio/projects/yeast_hic_data/SV_out/Matrix_aligned/025\"\n",
    "result_path = \"/home/yangqian/storage/Bio/projects/yeast_hic_data/SV_out/\"\n",
    "sizes_path = \"/home/yangqian/storage/Bio/projects/yeast_hic_data/chrom_yZSJ025.sizes\"\n",
    "sizes = pd.read_csv(sizes_path,sep='\\t',header=None)\n",
    "SV_resultpath = signalFinder(result_path,test_matrix_path,control_matrix_path,sizes)\n",
    "print(SV_resultpath)"
   ]
  },
  {
   "cell_type": "markdown",
   "id": "583ce9ca-f51e-4929-be7f-f53f213a9c4a",
   "metadata": {},
   "source": [
    "# BoxFinder and Plot"
   ]
  },
  {
   "cell_type": "code",
   "execution_count": 1,
   "id": "01212624-50f6-4ad7-a83c-a89c9f325631",
   "metadata": {
    "tags": []
   },
   "outputs": [
    {
     "name": "stdout",
     "output_type": "stream",
     "text": [
      "H6  SV chromosome pairs: 10\n",
      "0 chr6 chr14\n"
     ]
    },
    {
     "ename": "NameError",
     "evalue": "name 'res_unit' is not defined",
     "output_type": "error",
     "traceback": [
      "\u001b[0;31m---------------------------------------------------------------------------\u001b[0m",
      "\u001b[0;31mNameError\u001b[0m                                 Traceback (most recent call last)",
      "Cell \u001b[0;32mIn[1], line 7\u001b[0m\n\u001b[1;32m      5\u001b[0m sample_sort \u001b[38;5;241m=\u001b[39m pd\u001b[38;5;241m.\u001b[39mread_csv(\u001b[38;5;124m\"\u001b[39m\u001b[38;5;124m/home/yangqian/storage/Bio/projects/yeast_hic_data/SV_out/SV_result/H6_downsample_for_025/H6_downsample_for_025_result_500k_sorted.csv\u001b[39m\u001b[38;5;124m\"\u001b[39m)\n\u001b[1;32m      6\u001b[0m name_sample \u001b[38;5;241m=\u001b[39m \u001b[38;5;124m'\u001b[39m\u001b[38;5;124mH6\u001b[39m\u001b[38;5;124m'\u001b[39m\n\u001b[0;32m----> 7\u001b[0m \u001b[43mTLplotandBEDproduce\u001b[49m\u001b[43m(\u001b[49m\u001b[43mpath\u001b[49m\u001b[43m,\u001b[49m\u001b[43mname_sample\u001b[49m\u001b[43m,\u001b[49m\u001b[43msample_sort\u001b[49m\u001b[43m[\u001b[49m\u001b[38;5;241;43m0\u001b[39;49m\u001b[43m:\u001b[49m\u001b[38;5;241;43m10\u001b[39;49m\u001b[43m]\u001b[49m\u001b[43m,\u001b[49m\u001b[38;5;241;43m1000\u001b[39;49m\u001b[43m)\u001b[49m\n",
      "File \u001b[0;32m~/storage/Bio/projects/HiSTra/HiSTra/BoxFinder.py:535\u001b[0m, in \u001b[0;36mTLplotandBEDproduce\u001b[0;34m(path, name, dataset, res_unit, no_pic_fg)\u001b[0m\n\u001b[1;32m    532\u001b[0m         \u001b[38;5;28mprint\u001b[39m(i,chr1,chr2)\n\u001b[1;32m    533\u001b[0m         \u001b[38;5;28;01mif\u001b[39;00m \u001b[38;5;129;01mnot\u001b[39;00m no_pic_fg:\n\u001b[1;32m    534\u001b[0m \u001b[38;5;66;03m#             deDocBed,combineBed,box,fig,fig2 = PlotBreakpoint(path,name,chr1,chr2)\u001b[39;00m\n\u001b[0;32m--> 535\u001b[0m             deDocBed,combineBed,box,fig \u001b[38;5;241m=\u001b[39m \u001b[43mPlotBreakpoint\u001b[49m\u001b[43m(\u001b[49m\u001b[43mpath\u001b[49m\u001b[43m,\u001b[49m\u001b[43mname\u001b[49m\u001b[43m,\u001b[49m\u001b[43mchr1\u001b[49m\u001b[43m,\u001b[49m\u001b[43mchr2\u001b[49m\u001b[43m,\u001b[49m\u001b[43mres_unit\u001b[49m\u001b[43m)\u001b[49m\n\u001b[1;32m    536\u001b[0m             fig_path \u001b[38;5;241m=\u001b[39m os\u001b[38;5;241m.\u001b[39mpath\u001b[38;5;241m.\u001b[39mjoin(result_path,name,\u001b[38;5;124m'\u001b[39m\u001b[38;5;124mpic\u001b[39m\u001b[38;5;124m'\u001b[39m)\n\u001b[1;32m    537\u001b[0m             \u001b[38;5;28;01mif\u001b[39;00m \u001b[38;5;129;01mnot\u001b[39;00m os\u001b[38;5;241m.\u001b[39mpath\u001b[38;5;241m.\u001b[39mexists(fig_path):\n",
      "File \u001b[0;32m~/storage/Bio/projects/HiSTra/HiSTra/BoxFinder.py:356\u001b[0m, in \u001b[0;36mPlotBreakpoint\u001b[0;34m(path, name, chr1, chr2, bins)\u001b[0m\n\u001b[1;32m    354\u001b[0m \u001b[38;5;66;03m#     M = Sparse_in(\"/media/qian/data_sdb4/projects/Test_out/HiST/Matrix_aligned/\"+name+\"/100k/chr\"+chr1+\"_chr\"+chr2+\"_100k.txt\",1)\u001b[39;00m\n\u001b[1;32m    355\u001b[0m     matrix_file_path \u001b[38;5;241m=\u001b[39m os\u001b[38;5;241m.\u001b[39mpath\u001b[38;5;241m.\u001b[39mjoin(path,name,num2res_sim(bins),chrname_pre(chr1)\u001b[38;5;241m+\u001b[39mchr1\u001b[38;5;241m+\u001b[39m\u001b[38;5;124mf\u001b[39m\u001b[38;5;124m\"\u001b[39m\u001b[38;5;124m_\u001b[39m\u001b[38;5;132;01m{\u001b[39;00mchrname_pre(chr2)\u001b[38;5;132;01m}\u001b[39;00m\u001b[38;5;124m\"\u001b[39m\u001b[38;5;241m+\u001b[39mchr2\u001b[38;5;241m+\u001b[39m\u001b[38;5;124mf\u001b[39m\u001b[38;5;124m\"\u001b[39m\u001b[38;5;124m_\u001b[39m\u001b[38;5;132;01m{\u001b[39;00mnum2res_sim(bins)\u001b[38;5;132;01m}\u001b[39;00m\u001b[38;5;124m.txt\u001b[39m\u001b[38;5;124m\"\u001b[39m)\n\u001b[0;32m--> 356\u001b[0m     M \u001b[38;5;241m=\u001b[39m sparse_matrix_in(matrix_file_path, \u001b[38;5;241m1\u001b[39m, \u001b[43mres_unit\u001b[49m)\n\u001b[1;32m    357\u001b[0m     cutoff \u001b[38;5;241m=\u001b[39m np\u001b[38;5;241m.\u001b[39mpercentile(M,\u001b[38;5;241m99.99\u001b[39m,interpolation\u001b[38;5;241m=\u001b[39m\u001b[38;5;124m'\u001b[39m\u001b[38;5;124mnearest\u001b[39m\u001b[38;5;124m'\u001b[39m) \u001b[38;5;66;03m#去掉特别大的值\u001b[39;00m\n\u001b[1;32m    358\u001b[0m     M[M\u001b[38;5;241m>\u001b[39mcutoff] \u001b[38;5;241m=\u001b[39m cutoff\n",
      "\u001b[0;31mNameError\u001b[0m: name 'res_unit' is not defined"
     ]
    }
   ],
   "source": [
    "from HiSTra.BoxFinder import *\n",
    "deDoc_path = '/home/yangqian/storage/Bio/projects/HiSTra/deDoc/deDoc.jar'    \n",
    "path = '/home/yangqian/storage/Bio/projects/yeast_hic_data/SV_out/Matrix_aligned/'\n",
    "sv_result_path = '/home/yangqian/storage/Bio/projects/yeast_hic_data/SV_out/SV_result/'\n",
    "sample_sort = pd.read_csv(\"/home/yangqian/storage/Bio/projects/yeast_hic_data/SV_out/SV_result/H6_downsample_for_025/H6_downsample_for_025_result_500k_sorted.csv\")\n",
    "name_sample = 'H6'\n",
    "TLplotandBEDproduce(path,name_sample,sample_sort[0:10],1000)"
   ]
  }
 ],
 "metadata": {
  "kernelspec": {
   "display_name": "Python [conda env:HiSTra]",
   "language": "python",
   "name": "conda-env-HiSTra-py"
  },
  "language_info": {
   "codemirror_mode": {
    "name": "ipython",
    "version": 3
   },
   "file_extension": ".py",
   "mimetype": "text/x-python",
   "name": "python",
   "nbconvert_exporter": "python",
   "pygments_lexer": "ipython3",
   "version": "3.8.19"
  }
 },
 "nbformat": 4,
 "nbformat_minor": 5
}
