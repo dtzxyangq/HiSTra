{
 "cells": [
  {
   "cell_type": "code",
   "execution_count": 6,
   "id": "c10f28db-1387-49c3-96ce-f7a691236958",
   "metadata": {
    "tags": []
   },
   "outputs": [],
   "source": [
    "import sys\n",
    "import getopt\n",
    "import os\n",
    "import fnmatch\n",
    "import random\n",
    "import numpy as np\n",
    "import pandas as pd\n",
    "import itertools\n",
    "from datetime import *\n",
    "from scipy import sparse\n",
    "from random import sample\n",
    "import glob"
   ]
  },
  {
   "cell_type": "code",
   "execution_count": 8,
   "id": "2f5a7cd7-7a93-4072-ab51-7229a9e5cc46",
   "metadata": {},
   "outputs": [
    {
     "data": {
      "text/plain": [
       "[]"
      ]
     },
     "execution_count": 8,
     "metadata": {},
     "output_type": "execute_result"
    }
   ],
   "source": [
    "glob.glob(\"/home/yangqian/storage/Bio/HiC/单细胞Hi-C示例数据/matrix/hg19_PBMC_18cells/*.matrix\")"
   ]
  },
  {
   "cell_type": "code",
   "execution_count": 8,
   "id": "80880a19-16b8-4244-9cc3-fb20da4e7e05",
   "metadata": {
    "tags": []
   },
   "outputs": [
    {
     "name": "stdout",
     "output_type": "stream",
     "text": [
      "[[4 0 9 0]\n",
      " [0 7 0 0]\n",
      " [0 0 5 0]\n",
      " [0 0 0 0]]\n",
      "[[3 0 1 0]\n",
      " [0 2 0 0]\n",
      " [0 0 0 0]\n",
      " [0 0 0 1]]\n",
      "[[ 7  0 10  0]\n",
      " [ 0  9  0  0]\n",
      " [ 0  0  5  0]\n",
      " [ 0  0  0  1]]\n",
      "[ 4  7 14  0] [3 2 1 1] [ 7  9 15  1]\n",
      "[0 2 1 2] [0 2 1 0]\n"
     ]
    }
   ],
   "source": [
    "from scipy import sparse\n",
    "# from numpy import array\n",
    "I = np.array([0,2,1,0])\n",
    "J = np.array([0,2,1,2])\n",
    "V = np.array([4,5,7,9])\n",
    "A = sparse.coo_array((V,(I,J)),shape=(4,4))\n",
    "I = np.array([0,0,1,3,1,0,0])\n",
    "J = np.array([0,2,1,3,1,0,0])\n",
    "V = np.array([1,1,1,1,1,1,1])\n",
    "B = sparse.coo_array((V,(I,J)),shape=(4,4))\n",
    "C = A + B\n",
    "print(A.toarray())\n",
    "print(B.toarray())\n",
    "print(C.toarray())\n",
    "print(sum(A.toarray()),sum(B.toarray()),sum(C.toarray()))\n",
    "print(A.col,A.row)"
   ]
  },
  {
   "cell_type": "code",
   "execution_count": 2,
   "id": "be3a66a5-15ba-46e5-a141-a48679e1cdbf",
   "metadata": {},
   "outputs": [
    {
     "name": "stdout",
     "output_type": "stream",
     "text": [
      "The number of cells included: 18.\n",
      "--------- The cells file path is /home/yangqian/storage/Bio/HiC/单细胞Hi-C示例数据/matrix/hg19_PBMC_18cells/. ---------\n",
      "--------- The cells file path is /home/yangqian/storage/Bio/HiC/单细胞Hi-C示例数据/matrix/hg19_PBMC_18cells/. ---------\n",
      "--------- We are dumpping hg19_PBMC_18cells sample chromosome pairs ('chr1', 'chr1').\n",
      "--------- Process is completed 0.0%... ---------\n",
      "--------- We are dumpping hg19_PBMC_18cells sample chromosome pairs ('chr2', 'chr2').\n",
      "--------- Process is completed 8.333333333333334%... ---------\n",
      "--------- We are dumpping hg19_PBMC_18cells sample chromosome pairs ('chr3', 'chr3').\n",
      "--------- Process is completed 16.304347826086957%... ---------\n",
      "--------- We are dumpping hg19_PBMC_18cells sample chromosome pairs ('chr4', 'chr4').\n",
      "--------- Process is completed 23.91304347826087%... ---------\n",
      "--------- We are dumpping hg19_PBMC_18cells sample chromosome pairs ('chr5', 'chr5').\n",
      "--------- Process is completed 31.159420289855074%... ---------\n",
      "--------- We are dumpping hg19_PBMC_18cells sample chromosome pairs ('chr6', 'chr6').\n",
      "--------- Process is completed 38.04347826086956%... ---------\n",
      "--------- We are dumpping hg19_PBMC_18cells sample chromosome pairs ('chr7', 'chr7').\n",
      "--------- Process is completed 44.56521739130435%... ---------\n",
      "--------- We are dumpping hg19_PBMC_18cells sample chromosome pairs ('chr8', 'chr8').\n",
      "--------- Process is completed 50.72463768115942%... ---------\n",
      "--------- We are dumpping hg19_PBMC_18cells sample chromosome pairs ('chr9', 'chr9').\n",
      "--------- Process is completed 56.52173913043478%... ---------\n",
      "--------- We are dumpping hg19_PBMC_18cells sample chromosome pairs ('chr10', 'chr10').\n",
      "--------- Process is completed 61.95652173913044%... ---------\n",
      "--------- We are dumpping hg19_PBMC_18cells sample chromosome pairs ('chr11', 'chr11').\n",
      "--------- Process is completed 67.02898550724638%... ---------\n",
      "--------- We are dumpping hg19_PBMC_18cells sample chromosome pairs ('chr12', 'chr12').\n",
      "--------- Process is completed 71.73913043478261%... ---------\n",
      "--------- We are dumpping hg19_PBMC_18cells sample chromosome pairs ('chr13', 'chr13').\n",
      "--------- Process is completed 76.08695652173913%... ---------\n",
      "--------- We are dumpping hg19_PBMC_18cells sample chromosome pairs ('chr14', 'chr14').\n",
      "--------- Process is completed 80.07246376811594%... ---------\n",
      "--------- We are dumpping hg19_PBMC_18cells sample chromosome pairs ('chr15', 'chr15').\n",
      "--------- Process is completed 83.69565217391305%... ---------\n",
      "--------- We are dumpping hg19_PBMC_18cells sample chromosome pairs ('chr16', 'chr16').\n",
      "--------- Process is completed 86.95652173913044%... ---------\n",
      "--------- We are dumpping hg19_PBMC_18cells sample chromosome pairs ('chr17', 'chr17').\n",
      "--------- Process is completed 89.85507246376811%... ---------\n",
      "--------- We are dumpping hg19_PBMC_18cells sample chromosome pairs ('chr18', 'chr18').\n",
      "--------- Process is completed 92.3913043478261%... ---------\n",
      "--------- We are dumpping hg19_PBMC_18cells sample chromosome pairs ('chr19', 'chr19').\n",
      "--------- Process is completed 94.56521739130434%... ---------\n",
      "--------- We are dumpping hg19_PBMC_18cells sample chromosome pairs ('chr20', 'chr20').\n",
      "--------- Process is completed 96.3768115942029%... ---------\n",
      "--------- We are dumpping hg19_PBMC_18cells sample chromosome pairs ('chr21', 'chr21').\n",
      "--------- Process is completed 97.82608695652173%... ---------\n",
      "--------- We are dumpping hg19_PBMC_18cells sample chromosome pairs ('chr22', 'chr22').\n",
      "--------- Process is completed 98.91304347826087%... ---------\n",
      "--------- We are dumpping hg19_PBMC_18cells sample chromosome pairs ('chrX', 'chrX').\n",
      "--------- Process is completed 99.6376811594203%... ---------\n",
      "--------- We are dumpping hg19_PBMC_18cells sample chromosome pairs ('chrY', 'chrY').\n",
      "--------- Process is completed 100.0%... ---------\n"
     ]
    }
   ],
   "source": [
    "from HiSTra.hicInput import matrix2mat\n",
    "from HiSTra.utils import sizes2bed,sizes2resUnit\n",
    "dir_path_fmt = \"/home/yangqian/storage/Bio/HiC/单细胞Hi-C示例数据/matrix/sample_name/\"\n",
    "sample_name = \"hg19_PBMC_18cells\"\n",
    "dir_path = dir_path_fmt.replace(\"sample_name\",sample_name)\n",
    "sizes_path = \"/home/yangqian/storage/Bio/projects/HiST/chrom_hg19.sizes\"\n",
    "sizes = pd.read_csv(sizes_path,sep='\\t',header=None)\n",
    "TLout_path = \"/home/yangqian/storage/Bio/projects/HiST/test-scHiC-TLout/\"\n",
    "test_scHiC_matfromhic_path = matrix2mat(dir_path,TLout_path,sizes,\"raw\")\n",
    "# res_unit = sizes2resUnit(sizes)\n",
    "# bed_df_low, bed_df_high = sizes2bed(sizes,5*res_unit), sizes2bed(sizes,res_unit)\n",
    "# size_low, size_high = len(bed_df_low), len(bed_df_high)\n",
    "# size_low,size_high"
   ]
  },
  {
   "cell_type": "code",
   "execution_count": 4,
   "id": "ad3a14f2-be9d-4c65-a98d-3960c0431f98",
   "metadata": {},
   "outputs": [
    {
     "data": {
      "text/plain": [
       "(<6207x6207 sparse matrix of type '<class 'numpy.float64'>'\n",
       " \twith 2847625 stored elements in Compressed Sparse Row format>,\n",
       " <30971x30971 sparse matrix of type '<class 'numpy.float64'>'\n",
       " \twith 6695846 stored elements in Compressed Sparse Row format>)"
      ]
     },
     "execution_count": 4,
     "metadata": {},
     "output_type": "execute_result"
    }
   ],
   "source": [
    "sum_mat_low, sum_mat_high"
   ]
  },
  {
   "cell_type": "code",
   "execution_count": 24,
   "id": "ef3910bb-6460-48ae-a35f-e8c77e5ad6a2",
   "metadata": {
    "tags": []
   },
   "outputs": [
    {
     "name": "stdout",
     "output_type": "stream",
     "text": [
      "['18_Science-Dip-C.pbmc_01', '18_Science-Dip-C.pbmc_02', '18_Science-Dip-C.pbmc_03', '18_Science-Dip-C.pbmc_04', '18_Science-Dip-C.pbmc_05', '18_Science-Dip-C.pbmc_06', '18_Science-Dip-C.pbmc_07', '18_Science-Dip-C.pbmc_08', '18_Science-Dip-C.pbmc_09', '18_Science-Dip-C.pbmc_10', '18_Science-Dip-C.pbmc_11', '18_Science-Dip-C.pbmc_12', '18_Science-Dip-C.pbmc_13', '18_Science-Dip-C.pbmc_14', '18_Science-Dip-C.pbmc_15', '18_Science-Dip-C.pbmc_16', '18_Science-Dip-C.pbmc_17', '18_Science-Dip-C.pbmc_18']\n",
      "18_Science-Dip-C.pbmc_01_100000.matrix\n",
      "[0. 0. 0. ... 0. 0. 0.]\n",
      "18_Science-Dip-C.pbmc_01_100000_abs.bed\n",
      "[0. 0. 0. ... 0. 0. 0.]\n",
      "18_Science-Dip-C.pbmc_02_100000.matrix\n",
      "[0. 0. 0. ... 0. 0. 0.]\n",
      "[0. 0. 0. ... 0. 0. 0.]\n",
      "18_Science-Dip-C.pbmc_02_100000_abs.bed\n",
      "[0. 0. 0. ... 0. 0. 0.]\n",
      "18_Science-Dip-C.pbmc_03_100000.matrix\n",
      "[0. 0. 0. ... 0. 0. 0.]\n",
      "[0. 0. 0. ... 0. 0. 0.]\n",
      "18_Science-Dip-C.pbmc_03_100000_abs.bed\n",
      "[0. 0. 0. ... 0. 0. 0.]\n",
      "18_Science-Dip-C.pbmc_04_100000.matrix\n",
      "[0. 0. 0. ... 0. 0. 0.]\n",
      "[0. 0. 0. ... 0. 0. 0.]\n",
      "18_Science-Dip-C.pbmc_04_100000_abs.bed\n",
      "[0. 0. 0. ... 0. 0. 0.]\n",
      "18_Science-Dip-C.pbmc_05_100000.matrix\n",
      "[0. 0. 0. ... 0. 0. 0.]\n",
      "[0. 0. 0. ... 0. 0. 0.]\n",
      "18_Science-Dip-C.pbmc_05_100000_abs.bed\n",
      "[0. 0. 0. ... 0. 0. 0.]\n",
      "18_Science-Dip-C.pbmc_06_100000.matrix\n",
      "[0. 0. 0. ... 0. 0. 0.]\n",
      "[0. 0. 0. ... 0. 0. 0.]\n",
      "18_Science-Dip-C.pbmc_06_100000_abs.bed\n",
      "[0. 0. 0. ... 0. 0. 0.]\n",
      "18_Science-Dip-C.pbmc_07_100000.matrix\n",
      "[0. 0. 0. ... 0. 0. 0.]\n",
      "[0. 0. 0. ... 0. 0. 0.]\n",
      "18_Science-Dip-C.pbmc_07_100000_abs.bed\n",
      "[0. 0. 0. ... 0. 0. 0.]\n",
      "18_Science-Dip-C.pbmc_08_100000.matrix\n",
      "[0. 0. 0. ... 0. 0. 0.]\n",
      "[0. 0. 0. ... 0. 0. 0.]\n",
      "18_Science-Dip-C.pbmc_08_100000_abs.bed\n",
      "[0. 0. 0. ... 0. 0. 0.]\n",
      "18_Science-Dip-C.pbmc_09_100000.matrix\n",
      "[0. 0. 0. ... 0. 0. 0.]\n",
      "[0. 0. 0. ... 0. 0. 0.]\n",
      "18_Science-Dip-C.pbmc_09_100000_abs.bed\n",
      "[0. 0. 0. ... 0. 0. 0.]\n",
      "18_Science-Dip-C.pbmc_10_100000.matrix\n",
      "[0. 0. 0. ... 0. 0. 0.]\n",
      "[0. 0. 0. ... 0. 0. 0.]\n",
      "18_Science-Dip-C.pbmc_10_100000_abs.bed\n",
      "[0. 0. 0. ... 0. 0. 0.]\n",
      "18_Science-Dip-C.pbmc_11_100000.matrix\n",
      "[0. 0. 0. ... 0. 0. 0.]\n",
      "[0. 0. 0. ... 0. 0. 0.]\n",
      "18_Science-Dip-C.pbmc_11_100000_abs.bed\n",
      "[0. 0. 0. ... 0. 0. 0.]\n",
      "18_Science-Dip-C.pbmc_12_100000.matrix\n",
      "[0. 0. 0. ... 0. 0. 0.]\n",
      "[0. 0. 0. ... 0. 0. 0.]\n",
      "18_Science-Dip-C.pbmc_12_100000_abs.bed\n",
      "[0. 0. 0. ... 0. 0. 0.]\n",
      "18_Science-Dip-C.pbmc_13_100000.matrix\n",
      "[0. 0. 0. ... 0. 0. 0.]\n",
      "[0. 0. 0. ... 0. 0. 0.]\n",
      "18_Science-Dip-C.pbmc_13_100000_abs.bed\n",
      "[0. 0. 0. ... 0. 0. 0.]\n",
      "18_Science-Dip-C.pbmc_14_100000.matrix\n",
      "[0. 0. 0. ... 0. 0. 0.]\n",
      "[0. 0. 0. ... 0. 0. 0.]\n",
      "18_Science-Dip-C.pbmc_14_100000_abs.bed\n",
      "[0. 0. 0. ... 0. 0. 0.]\n",
      "18_Science-Dip-C.pbmc_15_100000.matrix\n",
      "[0. 0. 0. ... 0. 0. 0.]\n",
      "[0. 0. 0. ... 0. 0. 0.]\n",
      "18_Science-Dip-C.pbmc_15_100000_abs.bed\n",
      "[0. 0. 0. ... 0. 0. 0.]\n",
      "18_Science-Dip-C.pbmc_16_100000.matrix\n",
      "[0. 0. 0. ... 0. 0. 0.]\n",
      "[0. 0. 0. ... 0. 0. 0.]\n",
      "18_Science-Dip-C.pbmc_16_100000_abs.bed\n",
      "[0. 0. 0. ... 0. 0. 0.]\n",
      "18_Science-Dip-C.pbmc_17_100000.matrix\n",
      "[0. 0. 0. ... 0. 0. 0.]\n",
      "[0. 0. 0. ... 0. 0. 0.]\n",
      "18_Science-Dip-C.pbmc_17_100000_abs.bed\n",
      "[0. 0. 0. ... 0. 0. 0.]\n",
      "18_Science-Dip-C.pbmc_18_100000.matrix\n",
      "[0. 0. 0. ... 0. 0. 0.]\n",
      "[0. 0. 0. ... 0. 0. 0.]\n",
      "18_Science-Dip-C.pbmc_18_100000_abs.bed\n",
      "[0. 0. 0. ... 0. 0. 0.]\n"
     ]
    }
   ],
   "source": [
    "# dir_path = \"/home/yangqian/下载/单细胞Hi-C示例数据/matrix/hg19_PBMC_18cells/18_Science-Dip-C.pbmc_01/raw/100000\"\n",
    "# /home/yangqian/storage/Bio/HiC/单细胞Hi-C示例数据/matrix/hg19_PBMC_18cells/18_Science-Dip-C.pbmc_01\n",
    "# from HiSTra.utils import BEDcheck\n",
    "\n",
    "dir_path_fmt = \"/home/yangqian/storage/Bio/HiC/单细胞Hi-C示例数据/matrix/sample_name/\"\n",
    "sample_name = \"hg19_PBMC_18cells\"\n",
    "dir_path = dir_path_fmt.replace(\"sample_name\",sample_name)\n",
    "cells = os.listdir(dir_path)\n",
    "print(cells)\n",
    "\n",
    "res_unit = 100000\n",
    "cnt = 0\n",
    "size = 30971 #6207\n",
    "for cell in cells:\n",
    "    cell_path = os.path.join(dir_path,cell,f\"raw/{res_unit}/\")\n",
    "    # for file in os.listdir(cell_path):\n",
    "    #     bed_df = BEDcheck(matrix_file)\n",
    "    # if type(bed_df)==bool:\n",
    "        \n",
    "    for matrix_file in os.listdir(cell_path):\n",
    "        print(matrix_file)\n",
    "        if matrix_file.endswith(\".matrix\"):\n",
    "            matrix_file_path = os.path.join(cell_path,matrix_file)\n",
    "            data = pd.read_csv(matrix_file_path,header=None,sep='\\t')\n",
    "            row = np.int64(data[0])\n",
    "            column = np.int64(data[1])\n",
    "            weight = np.float64(data[2])\n",
    "            if cnt == 0:\n",
    "                sum_mat = sparse.coo_matrix((weight,(row,column)),shape=(size,size))\n",
    "            else:\n",
    "                tmp_mat = sparse.coo_matrix((weight,(row,column)),shape=(size,size))\n",
    "                # print(tmp_mat.shape)\n",
    "                sum_mat = sum_mat + tmp_mat\n",
    "                print(sum(tmp_mat.toarray()))\n",
    "                # print(sum_mat.shape)\n",
    "            cnt = cnt + 1\n",
    "        print(sum(sum_mat.toarray()))\n",
    "          "
   ]
  },
  {
   "cell_type": "code",
   "execution_count": 6,
   "id": "5870f6fc-1527-4f7c-bc84-add5aa830601",
   "metadata": {},
   "outputs": [
    {
     "data": {
      "text/plain": [
       "bool"
      ]
     },
     "execution_count": 6,
     "metadata": {},
     "output_type": "execute_result"
    }
   ],
   "source": [
    "flag = False\n",
    "type(flag)"
   ]
  },
  {
   "cell_type": "code",
   "execution_count": 26,
   "id": "e75a9bfb-6c8f-4670-82fd-73dd867bf521",
   "metadata": {
    "tags": []
   },
   "outputs": [
    {
     "data": {
      "text/plain": [
       "array([[ 0.,  0.,  0., ...,  0.,  0.,  0.],\n",
       "       [ 0.,  0.,  0., ...,  0.,  0.,  0.],\n",
       "       [ 0.,  0.,  0., ...,  0.,  0.,  0.],\n",
       "       ...,\n",
       "       [ 9.,  8.,  9., ...,  0.,  0.,  0.],\n",
       "       [11., 12.,  5., ...,  0.,  0.,  0.],\n",
       "       [12., 15.,  5., ...,  0.,  0.,  0.]])"
      ]
     },
     "execution_count": 26,
     "metadata": {},
     "output_type": "execute_result"
    }
   ],
   "source": [
    "test_array = sum_mat.tocsr()[1:499,500:986].toarray()\n",
    "test_array"
   ]
  },
  {
   "cell_type": "code",
   "execution_count": 47,
   "id": "cabf396d-4265-4217-8933-0d0ae8204de4",
   "metadata": {
    "tags": []
   },
   "outputs": [],
   "source": [
    "test_coo = sum_mat.tocsr()[1:499,500:986].tocoo()"
   ]
  },
  {
   "cell_type": "code",
   "execution_count": 48,
   "id": "7548961b-ce3d-470b-bba0-d177ee060858",
   "metadata": {
    "tags": []
   },
   "outputs": [],
   "source": [
    "test_csr = sum_mat.tocsr()[1:499,500:986]"
   ]
  },
  {
   "cell_type": "code",
   "execution_count": 27,
   "id": "4b9a4471-d5b6-41ef-bdbf-de21923e6b65",
   "metadata": {
    "tags": []
   },
   "outputs": [],
   "source": [
    "test_pd = pd.DataFrame()\n",
    "test_pd.insert(0,'row',test_coo.row*res_unit)\n",
    "test_pd.insert(1,'col',test_coo.col*res_unit)\n",
    "test_pd.insert(2,'weight',test_coo.data)\n",
    "test_coo.col,len(test_coo.col),test_coo.row,len(test_coo.row)\n",
    "test_pd.to_csv(\"/home/yangqian/storage/Bio/HiC/单细胞Hi-C示例数据/test_chr1_chr2_500k.txt\",sep='\\t',header=None,index=None)"
   ]
  },
  {
   "cell_type": "code",
   "execution_count": 18,
   "id": "5272fc65-06d6-4641-8bb8-a18d273921b1",
   "metadata": {},
   "outputs": [
    {
     "data": {
      "text/plain": [
       "2493"
      ]
     },
     "execution_count": 18,
     "metadata": {},
     "output_type": "execute_result"
    }
   ],
   "source": [
    "N = 249250621\n",
    "step = 100000\n",
    "bin_s = np.array([i for i in range(0,N,step)])\n",
    "bin_e = bin_s + step\n",
    "bin_e[-1] = N \n",
    "bin_e\n",
    "bin_index = [i+1 for i in range(len(bin_s))]\n",
    "bin_index[-1]"
   ]
  },
  {
   "cell_type": "code",
   "execution_count": 13,
   "id": "996a4b75-c5b8-4772-9a33-bacb422587da",
   "metadata": {},
   "outputs": [],
   "source": [
    "sizes_path = \"/home/yangqian/storage/Bio/projects/HiST/chrom_hg19.sizes\"\n",
    "sizes = pd.read_csv(sizes_path,sep='\\t',header=None)"
   ]
  },
  {
   "cell_type": "code",
   "execution_count": 17,
   "id": "c424a572-6a05-47ac-878e-ca04d5b56c0e",
   "metadata": {},
   "outputs": [
    {
     "data": {
      "text/html": [
       "<div>\n",
       "<style scoped>\n",
       "    .dataframe tbody tr th:only-of-type {\n",
       "        vertical-align: middle;\n",
       "    }\n",
       "\n",
       "    .dataframe tbody tr th {\n",
       "        vertical-align: top;\n",
       "    }\n",
       "\n",
       "    .dataframe thead th {\n",
       "        text-align: right;\n",
       "    }\n",
       "</style>\n",
       "<table border=\"1\" class=\"dataframe\">\n",
       "  <thead>\n",
       "    <tr style=\"text-align: right;\">\n",
       "      <th></th>\n",
       "      <th>chrname</th>\n",
       "      <th>bin_s</th>\n",
       "      <th>bin_e</th>\n",
       "      <th>bin_id</th>\n",
       "    </tr>\n",
       "  </thead>\n",
       "  <tbody>\n",
       "    <tr>\n",
       "      <th>0</th>\n",
       "      <td>chr1</td>\n",
       "      <td>0</td>\n",
       "      <td>100000</td>\n",
       "      <td>1</td>\n",
       "    </tr>\n",
       "    <tr>\n",
       "      <th>1</th>\n",
       "      <td>chr1</td>\n",
       "      <td>100000</td>\n",
       "      <td>200000</td>\n",
       "      <td>2</td>\n",
       "    </tr>\n",
       "    <tr>\n",
       "      <th>2</th>\n",
       "      <td>chr1</td>\n",
       "      <td>200000</td>\n",
       "      <td>300000</td>\n",
       "      <td>3</td>\n",
       "    </tr>\n",
       "    <tr>\n",
       "      <th>3</th>\n",
       "      <td>chr1</td>\n",
       "      <td>300000</td>\n",
       "      <td>400000</td>\n",
       "      <td>4</td>\n",
       "    </tr>\n",
       "    <tr>\n",
       "      <th>4</th>\n",
       "      <td>chr1</td>\n",
       "      <td>400000</td>\n",
       "      <td>500000</td>\n",
       "      <td>5</td>\n",
       "    </tr>\n",
       "    <tr>\n",
       "      <th>...</th>\n",
       "      <td>...</td>\n",
       "      <td>...</td>\n",
       "      <td>...</td>\n",
       "      <td>...</td>\n",
       "    </tr>\n",
       "    <tr>\n",
       "      <th>30965</th>\n",
       "      <td>chrY</td>\n",
       "      <td>58900000</td>\n",
       "      <td>59000000</td>\n",
       "      <td>30966</td>\n",
       "    </tr>\n",
       "    <tr>\n",
       "      <th>30966</th>\n",
       "      <td>chrY</td>\n",
       "      <td>59000000</td>\n",
       "      <td>59100000</td>\n",
       "      <td>30967</td>\n",
       "    </tr>\n",
       "    <tr>\n",
       "      <th>30967</th>\n",
       "      <td>chrY</td>\n",
       "      <td>59100000</td>\n",
       "      <td>59200000</td>\n",
       "      <td>30968</td>\n",
       "    </tr>\n",
       "    <tr>\n",
       "      <th>30968</th>\n",
       "      <td>chrY</td>\n",
       "      <td>59200000</td>\n",
       "      <td>59300000</td>\n",
       "      <td>30969</td>\n",
       "    </tr>\n",
       "    <tr>\n",
       "      <th>30969</th>\n",
       "      <td>chrY</td>\n",
       "      <td>59300000</td>\n",
       "      <td>59373566</td>\n",
       "      <td>30970</td>\n",
       "    </tr>\n",
       "  </tbody>\n",
       "</table>\n",
       "<p>30970 rows × 4 columns</p>\n",
       "</div>"
      ],
      "text/plain": [
       "      chrname     bin_s     bin_e  bin_id\n",
       "0        chr1         0    100000       1\n",
       "1        chr1    100000    200000       2\n",
       "2        chr1    200000    300000       3\n",
       "3        chr1    300000    400000       4\n",
       "4        chr1    400000    500000       5\n",
       "...       ...       ...       ...     ...\n",
       "30965    chrY  58900000  59000000   30966\n",
       "30966    chrY  59000000  59100000   30967\n",
       "30967    chrY  59100000  59200000   30968\n",
       "30968    chrY  59200000  59300000   30969\n",
       "30969    chrY  59300000  59373566   30970\n",
       "\n",
       "[30970 rows x 4 columns]"
      ]
     },
     "execution_count": 17,
     "metadata": {},
     "output_type": "execute_result"
    }
   ],
   "source": [
    "def sizes2bed(sizes,resolution):\n",
    "    step = resolution\n",
    "    bed_df = pd.DataFrame()\n",
    "    for i in range(len(sizes)):\n",
    "        N = sizes[1][i]        \n",
    "        bin_s = np.array([k for k in range(0,N,step)])\n",
    "        bin_e = bin_s + step\n",
    "        bin_e[-1] = N\n",
    "        tmp_df = pd.DataFrame([sizes[0][i]]*len(bin_s),columns=[\"chrname\"])\n",
    "        tmp_df.insert(1,\"bin_s\",bin_s)\n",
    "        tmp_df.insert(2,\"bin_e\",bin_e)\n",
    "        bed_df = pd.concat([bed_df,tmp_df],ignore_index=True)\n",
    "    bin_index = [i+1 for i in range(len(bed_df))]\n",
    "    bed_df.insert(3,\"bin_id\",bin_index)\n",
    "    return bed_df\n",
    "\n",
    "ans = sizes2bed(sizes,100000)\n",
    "ans"
   ]
  },
  {
   "cell_type": "code",
   "execution_count": 11,
   "id": "9cf6f52c-dd43-4cd4-9487-27e95b9f3a93",
   "metadata": {},
   "outputs": [
    {
     "data": {
      "text/plain": [
       "(2494, 4925)"
      ]
     },
     "execution_count": 11,
     "metadata": {},
     "output_type": "execute_result"
    }
   ],
   "source": [
    "ans[ans.chrname==\"chr2\"][\"bin_id\"].min(),ans[ans.chrname==\"chr2\"][\"bin_id\"].max()"
   ]
  },
  {
   "cell_type": "code",
   "execution_count": null,
   "id": "b03967c9-40e3-4399-8c37-26b233afc022",
   "metadata": {},
   "outputs": [],
   "source": [
    "from HiSTra.hicInput import matrix2mat\n",
    "from HiSTra.utils import sizes2bed,sizes2resUnit,sizes2chrname\n",
    "chrname = sizes2chrname(sizes)\n",
    "process, cnt = 0, 0\n",
    "sum_process = len(chrname)*(len(chrname)-1)/2\n",
    "print(chrname,sum_process)\n",
    "res_unit = 100000\n",
    "fl = \"test\"\n",
    "for chri,chrj in itertools.combinations_with_replacement(chrname,2):\n",
    "    if chrj==chri:\n",
    "        print(f\"--------- We are dumpping {fl} sample chromosome pairs {chri,chrj}.\")\n",
    "        print(f\"--------- Process is completed {process*100/sum_process}%... ---------\") # for process\n",
    "        process+=len(chrname)-cnt-1\n",
    "        cnt+=1\n",
    "    chri_s, chri_e = ans[ans.chrname==chri][\"bin_id\"].min(),ans[ans.chrname==chri][\"bin_id\"].max()\n",
    "    chrj_s, chrj_e = ans[ans.chrname==chrj][\"bin_id\"].min(),ans[ans.chrname==chrj][\"bin_id\"].max()\n",
    "    print(chri_s, chri_e, chrj_s, chrj_e)\n",
    "    test_coo = sum_mat.tocsr()[chri_s:chri_e,chrj_s:chrj_e].tocoo()\n",
    "    test_pd = pd.DataFrame()\n",
    "    test_pd.insert(0,'row',test_coo.row*res_unit)\n",
    "    test_pd.insert(1,'col',test_coo.col*res_unit)\n",
    "    test_pd.insert(2,'weight',test_coo.data)\n",
    "    test_pd.to_csv(f\"/home/yangqian/storage/Bio/HiC/单细胞Hi-C示例数据/test_{chri}_{chrj}_500k.txt\",sep='\\t',header=None,index=None)"
   ]
  },
  {
   "cell_type": "code",
   "execution_count": 34,
   "id": "bf9c88a7-79d5-40ee-a86a-b5b9af9b7898",
   "metadata": {},
   "outputs": [
    {
     "data": {
      "text/plain": [
       "('sample_name',\n",
       " '/home/yangqian/storage/Bio/HiC/单细胞Hi-C示例数据/matrix/sample_name',\n",
       " '/home/yangqian/storage/Bio/HiC/单细胞Hi-C示例数据/matrix/sample_name')"
      ]
     },
     "execution_count": 34,
     "metadata": {},
     "output_type": "execute_result"
    }
   ],
   "source": [
    "os.path.basename(\"/home/yangqian/storage/Bio/HiC/单细胞Hi-C示例数据/matrix/sample_name\"),os.path.dirname(\"/home/yangqian/storage/Bio/HiC/单细胞Hi-C示例数据/matrix/sample_name/\"),os.path.abspath(\"/home/yangqian/storage/Bio/HiC/单细胞Hi-C示例数据/matrix/sample_name/\")"
   ]
  }
 ],
 "metadata": {
  "kernelspec": {
   "display_name": "Python [conda env:HiSTra]",
   "language": "python",
   "name": "conda-env-HiSTra-py"
  },
  "language_info": {
   "codemirror_mode": {
    "name": "ipython",
    "version": 3
   },
   "file_extension": ".py",
   "mimetype": "text/x-python",
   "name": "python",
   "nbconvert_exporter": "python",
   "pygments_lexer": "ipython3",
   "version": "3.8.19"
  }
 },
 "nbformat": 4,
 "nbformat_minor": 5
}
